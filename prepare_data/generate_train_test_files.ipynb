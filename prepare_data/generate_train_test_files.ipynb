{
 "cells": [
  {
   "cell_type": "code",
   "execution_count": 1,
   "metadata": {},
   "outputs": [],
   "source": [
    "import os\n",
    "from os import listdir\n",
    "from os.path import isfile, join\n",
    "import numpy as np\n",
    "from tqdm import tqdm\n",
    "import csv"
   ]
  },
  {
   "cell_type": "code",
   "execution_count": 2,
   "metadata": {},
   "outputs": [
    {
     "name": "stderr",
     "output_type": "stream",
     "text": [
      "100%|██████████| 5/5 [00:26<00:00,  5.24s/it]\n"
     ]
    }
   ],
   "source": [
    "dss = [\n",
    "'electron-38323' #0 eminus-position-Mom-52294\n",
    "#,'kplus-position-Mom-50588' #1\n",
    ",'pionminus-39144' #1 - kplus yerine bunu kullaniyoruz piminus-position-Mom-39144\n",
    ",'muon-62190' #2 muminus-position-40000\n",
    ",'pionzero-35674' #3 pionzero-position-Mom-41118\n",
    ",'proton-36793' #4 proton-position-Mom-20358\n",
    "]\n",
    "\n",
    "ds_base = '/home/yalmalioglu/dataset5d/500sp_0padding_evts/'\n",
    "\n",
    "cls_f=[]\n",
    "\n",
    "for d in tqdm(range(len(dss))):\n",
    "    #ds = 'proton-position-Mom-20358'\n",
    "    ds = dss[d]\n",
    "    evt_dir = join(ds_base,ds)\n",
    "    evt_list = listdir(evt_dir)\n",
    "    for f in evt_list[:20000]: #take 20k events per each particle\n",
    "        if isfile(join(evt_dir, f)) and f.endswith(\".csv\"):\n",
    "            cls_f.append([d, join(ds,f)])\n",
    "    #f_evts = [[d, join(ds,f)] for f in listdir(evt_dir) if isfile(join(evt_dir, f)) and f.endswith(\".csv\")]\n",
    "    #cls_f.append(f_evts)\n",
    "    \n"
   ]
  },
  {
   "cell_type": "code",
   "execution_count": 7,
   "metadata": {},
   "outputs": [
    {
     "name": "stdout",
     "output_type": "stream",
     "text": [
      "[0, 'electron-38323/evt_00000.csv']\n"
     ]
    }
   ],
   "source": [
    "#print(len(cls_f[0]))\n",
    "print(cls_f[0])"
   ]
  },
  {
   "cell_type": "code",
   "execution_count": 8,
   "metadata": {},
   "outputs": [
    {
     "name": "stdout",
     "output_type": "stream",
     "text": [
      "10000\n",
      "100000\n"
     ]
    }
   ],
   "source": [
    "np.random.shuffle(cls_f)\n",
    "test_ind= len(cls_f)//10 #10percent for test\n",
    "print(test_ind)\n",
    "print(len(cls_f))"
   ]
  },
  {
   "cell_type": "code",
   "execution_count": 9,
   "metadata": {},
   "outputs": [],
   "source": [
    "write_dir='/home/yalmalioglu/dataset5d/500sp_0padding_evts/'\n",
    "\n",
    "with open(join(write_dir,'test_files35k_5p.csv'), 'w') as f_t:\n",
    "    wr = csv.writer(f_t)\n",
    "    for row in cls_f[0:test_ind]:\n",
    "        wr.writerow(row)\n",
    "        \n",
    "with open(join(write_dir,'train_files35k_5p.csv'), 'w') as f_t:\n",
    "    wr = csv.writer(f_t)\n",
    "    for row in cls_f[test_ind:]:\n",
    "        wr.writerow(row)"
   ]
  },
  {
   "cell_type": "code",
   "execution_count": null,
   "metadata": {},
   "outputs": [],
   "source": []
  }
 ],
 "metadata": {
  "kernelspec": {
   "display_name": "Python 3",
   "language": "python",
   "name": "python3"
  },
  "language_info": {
   "codemirror_mode": {
    "name": "ipython",
    "version": 3
   },
   "file_extension": ".py",
   "mimetype": "text/x-python",
   "name": "python",
   "nbconvert_exporter": "python",
   "pygments_lexer": "ipython3",
   "version": "3.7.9"
  }
 },
 "nbformat": 4,
 "nbformat_minor": 2
}
