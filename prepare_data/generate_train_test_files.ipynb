{
 "cells": [
  {
   "cell_type": "code",
   "execution_count": 1,
   "metadata": {},
   "outputs": [],
   "source": [
    "import os\n",
    "from os import listdir\n",
    "from os.path import isfile, join\n",
    "import numpy as np\n",
    "from tqdm import tqdm\n",
    "import csv"
   ]
  },
  {
   "cell_type": "code",
   "execution_count": 2,
   "metadata": {},
   "outputs": [
    {
     "name": "stderr",
     "output_type": "stream",
     "text": [
      "100%|██████████| 5/5 [00:25<00:00,  5.02s/it]\n"
     ]
    }
   ],
   "source": [
    "dss = [\n",
    "'eminus-position-Mom-52294' #0\n",
    "#,'kplus-position-Mom-50588' #1\n",
    ",'piminus-position-Mom-39144' #1 - kplus yerine bunu kullaniyoruz\n",
    ",'muminus-position-40000' #2\n",
    ",'pionzero-position-Mom-41118' #3\n",
    ",'proton-position-Mom-20358' #4\n",
    "]\n",
    "\n",
    "ds_base = './dataset/500sp_evts/'\n",
    "\n",
    "cls_f=[]\n",
    "\n",
    "for d in tqdm(range(len(dss))):\n",
    "    #ds = 'proton-position-Mom-20358'\n",
    "    ds = dss[d]\n",
    "    evt_dir = join(ds_base,ds)\n",
    "    evt_list = listdir(evt_dir)\n",
    "    for f in evt_list[:20000]: #take 20k events per each particle\n",
    "        if isfile(join(evt_dir, f)) and f.endswith(\".csv\"):\n",
    "            cls_f.append([d, join(ds,f)])\n",
    "    #f_evts = [[d, join(ds,f)] for f in listdir(evt_dir) if isfile(join(evt_dir, f)) and f.endswith(\".csv\")]\n",
    "    #cls_f.append(f_evts)\n",
    "    \n"
   ]
  },
  {
   "cell_type": "code",
   "execution_count": 3,
   "metadata": {},
   "outputs": [
    {
     "name": "stdout",
     "output_type": "stream",
     "text": [
      "[0, 'eminus-position-Mom-52294/evt_00000.csv']\n"
     ]
    }
   ],
   "source": [
    "#print(len(cls_f[0]))\n",
    "print(cls_f[0])"
   ]
  },
  {
   "cell_type": "code",
   "execution_count": 4,
   "metadata": {},
   "outputs": [
    {
     "name": "stdout",
     "output_type": "stream",
     "text": [
      "10000\n",
      "100000\n"
     ]
    }
   ],
   "source": [
    "np.random.shuffle(cls_f)\n",
    "test_ind= len(cls_f)//10 #10percent for test\n",
    "print(test_ind)\n",
    "print(len(cls_f))"
   ]
  },
  {
   "cell_type": "code",
   "execution_count": 5,
   "metadata": {},
   "outputs": [],
   "source": [
    "with open(join(ds_base,'test_files20k.csv'), 'w') as f_t:\n",
    "    wr = csv.writer(f_t)\n",
    "    for row in cls_f[0:test_ind]:\n",
    "        wr.writerow(row)\n",
    "        \n",
    "with open(join(ds_base,'train_files20k.csv'), 'w') as f_t:\n",
    "    wr = csv.writer(f_t)\n",
    "    for row in cls_f[test_ind:]:\n",
    "        wr.writerow(row)"
   ]
  },
  {
   "cell_type": "code",
   "execution_count": null,
   "metadata": {},
   "outputs": [],
   "source": []
  }
 ],
 "metadata": {
  "kernelspec": {
   "display_name": "Python 3",
   "language": "python",
   "name": "python3"
  },
  "language_info": {
   "codemirror_mode": {
    "name": "ipython",
    "version": 3
   },
   "file_extension": ".py",
   "mimetype": "text/x-python",
   "name": "python",
   "nbconvert_exporter": "python",
   "pygments_lexer": "ipython3",
   "version": "3.7.5"
  }
 },
 "nbformat": 4,
 "nbformat_minor": 2
}
